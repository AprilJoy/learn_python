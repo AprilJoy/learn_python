{
 "cells": [
  {
   "cell_type": "code",
   "execution_count": 1,
   "metadata": {
    "collapsed": false,
    "deletable": true,
    "editable": true
   },
   "outputs": [
    {
     "data": {
      "text/plain": [
       "[u'nj01-inf-yun-storage-mola213.nj01.baidu.com',\n",
       " u'nj01-mco-yun011.nj01.baidu.com',\n",
       " u'nj01-pcsmeta30-g02-000.nj01.baidu.com',\n",
       " u'nj01-pcsmeta30-g02-001.nj01.baidu.com',\n",
       " u'nj01-pcsmeta30-g02-002.nj01.baidu.com',\n",
       " u'nj01-pcsmeta30-g02-003.nj01.baidu.com',\n",
       " u'nj01-pcsmeta30-g02-004.nj01.baidu.com',\n",
       " u'nj01-pcsmeta30-g02-006.nj01.baidu.com',\n",
       " u'nj01-pcsmeta30-g02-007.nj01.baidu.com',\n",
       " u'nj01-pcsmeta30-g02-008.nj01.baidu.com',\n",
       " u'nj01-pcsmeta30-g02-010.nj01.baidu.com',\n",
       " u'nj01-pcsmeta30-g02-011.nj01.baidu.com',\n",
       " u'nj01-pcsmeta30-g02-012.nj01.baidu.com',\n",
       " u'nj01-pcsmeta30-g02-013.nj01.baidu.com',\n",
       " u'nj01-pcsmeta30-g02-014.nj01.baidu.com',\n",
       " u'nj01-pcsmeta30-g02-015.nj01.baidu.com',\n",
       " u'nj01-pcsmeta30-g02-016.nj01.baidu.com',\n",
       " u'nj01-pcsmeta30-g02-017.nj01.baidu.com',\n",
       " u'nj01-pcsmeta30-g02-018.nj01.baidu.com',\n",
       " u'nj01-pcsmeta30-g02-019.nj01.baidu.com',\n",
       " u'nj01-pcsmeta30-g02-020.nj01.baidu.com',\n",
       " u'nj01-pcsmeta30-g02-036.nj01.baidu.com',\n",
       " u'nj01-pcsmeta30-g02-037.nj01.baidu.com',\n",
       " u'nj01-pcsmeta30-g02-038.nj01.baidu.com',\n",
       " u'nj01-pcsmeta30-g02-039.nj01.baidu.com',\n",
       " u'nj01-pcsmeta30-g02-040.nj01.baidu.com',\n",
       " u'nj01-pcsmeta30-g02-041.nj01.baidu.com',\n",
       " u'nj01-pcsmeta30-g02-042.nj01.baidu.com',\n",
       " u'nj01-pcsmeta30-g02-043.nj01.baidu.com',\n",
       " u'nj01-pcsmeta30-g02-044.nj01.baidu.com',\n",
       " u'nj01-pcsmeta30-g02-045.nj01.baidu.com',\n",
       " u'nj01-pcsmeta30-g02-046.nj01.baidu.com',\n",
       " u'nj01-pcsmeta30-g02-047.nj01.baidu.com',\n",
       " u'nj01-pcsmeta30-g02-048.nj01.baidu.com',\n",
       " u'nj01-pcsmeta30-g02-049.nj01.baidu.com',\n",
       " u'nj01-pcsmeta30-g02-050.nj01.baidu.com',\n",
       " u'nj01-pcsmeta30-g02-051.nj01.baidu.com',\n",
       " u'nj01-pcsmeta30-g02-052.nj01.baidu.com',\n",
       " u'nj01-pcsmeta30-g02-053.nj01.baidu.com',\n",
       " u'nj01-pcsmeta30-g02-054.nj01.baidu.com',\n",
       " u'nj01-pcsmeta30-g02-080.nj01.baidu.com',\n",
       " u'nj01-pcsmeta30-g02-084.nj01.baidu.com',\n",
       " u'nj01-pcsmeta30-g02-085.nj01.baidu.com',\n",
       " u'nj01-pcsmeta30-g02-086.nj01.baidu.com',\n",
       " u'nj01-pcsmeta30-g02-087.nj01.baidu.com',\n",
       " u'nj01-pcsmeta30-g02-088.nj01.baidu.com',\n",
       " u'nj01-pcsmeta30-g02-089.nj01.baidu.com',\n",
       " u'nj01-pcsmeta30-g02-090.nj01.baidu.com',\n",
       " u'nj01-pcsmeta30-g02-091.nj01.baidu.com',\n",
       " u'nj01-pcsmeta30-g02-092.nj01.baidu.com',\n",
       " u'nj01-pcsmeta30-g02-093.nj01.baidu.com',\n",
       " u'nj01-pcsmeta30-g02-094.nj01.baidu.com',\n",
       " u'nj01-pcsmeta30-g02-095.nj01.baidu.com',\n",
       " u'nj01-pcsmeta30-g02-096.nj01.baidu.com',\n",
       " u'nj01-pcsmeta30-g02-097.nj01.baidu.com',\n",
       " u'nj01-poms-hdfs-nn2.nj01.baidu.com']"
      ]
     },
     "execution_count": 1,
     "metadata": {},
     "output_type": "execute_result"
    }
   ],
   "source": [
    "text = sc.textFile(\"/Users/baidu/Desktop/hdfs-all-new\")\n",
    "text.collect()"
   ]
  },
  {
   "cell_type": "code",
   "execution_count": 8,
   "metadata": {
    "collapsed": false,
    "deletable": true,
    "editable": true
   },
   "outputs": [
    {
     "name": "stdout",
     "output_type": "stream",
     "text": [
      "[0, 1, 4, 9, 16, 25, 36, 49, 64, 81]\n"
     ]
    }
   ],
   "source": [
    "print [ x**2 for x in xrange(10)]"
   ]
  },
  {
   "cell_type": "code",
   "execution_count": 11,
   "metadata": {
    "collapsed": false,
    "deletable": true,
    "editable": true
   },
   "outputs": [
    {
     "data": {
      "text/plain": [
       "{0, 2, 4, 6, 8}"
      ]
     },
     "execution_count": 11,
     "metadata": {},
     "output_type": "execute_result"
    }
   ],
   "source": [
    "##解析式\n",
    "print [ x**2 for x in xrange(10)]\n",
    "\n",
    "{ x for x in range(10) if x%2 == 0}"
   ]
  },
  {
   "cell_type": "code",
   "execution_count": 16,
   "metadata": {
    "collapsed": false,
    "deletable": true,
    "editable": true
   },
   "outputs": [],
   "source": [
    "##循环操作可变数组\n",
    "Lord_of_ring = ['Ainur','Dragons','Dwarves','Elves','Ents','Hobbits','Men','Orcs']\n",
    "\n",
    "for idx,element in enumerate(Lord_of_ring):\n",
    "    Lord_of_ring[idx] =\"{0}:{1}\".format(idx,element)"
   ]
  },
  {
   "cell_type": "code",
   "execution_count": 2,
   "metadata": {
    "collapsed": false,
    "deletable": true,
    "editable": true
   },
   "outputs": [
    {
     "name": "stdout",
     "output_type": "stream",
     "text": [
      "['name', ['Base_Damage', 65.0]]\n"
     ]
    }
   ],
   "source": [
    "unit = ['name',['Base_Damage',65.00]]\n",
    "my_hero = unit[:]  \n",
    "print my_hero"
   ]
  },
  {
   "cell_type": "code",
   "execution_count": 21,
   "metadata": {
    "collapsed": false,
    "deletable": true,
    "editable": true
   },
   "outputs": [
    {
     "name": "stdout",
     "output_type": "stream",
     "text": [
      "Wow, such cute error\n",
      "division by zero\n"
     ]
    }
   ],
   "source": [
    "try:\n",
    "    x = 1/0\n",
    "    y = range(10)[10]\n",
    "\n",
    "except Exception,e:\n",
    "    print \"Wow, such cute error\"\n",
    "    print e\n"
   ]
  },
  {
   "cell_type": "code",
   "execution_count": 3,
   "metadata": {
    "collapsed": true,
    "deletable": true,
    "editable": true
   },
   "outputs": [],
   "source": [
    "import csv\n",
    "import codecs\n",
    "import numpy as np\n",
    "import pandas as pd"
   ]
  },
  {
   "cell_type": "code",
   "execution_count": 14,
   "metadata": {
    "collapsed": false,
    "deletable": true,
    "editable": true
   },
   "outputs": [
    {
     "name": "stdout",
     "output_type": "stream",
     "text": [
      "['first name,last name,employee number\\n', 'luke , vanderhart , 1\\n', '\\xe4\\xb8\\xad\\xe6\\x96\\x87\\xe5\\x90\\x8d,\\xe5\\x90\\x8d\\xe5\\xad\\x97,4\\n', '\\n', 'ryan , neufeld , 2\\n', '/Users/baidu/Desktop/writetest-1.csv', '']\n"
     ]
    }
   ],
   "source": [
    "file_content = []\n",
    "with open('/Users/baidu/Desktop/testCsv.csv','r') as f:   \n",
    "    mark = True\n",
    "    while(mark):\n",
    "        file_content.append(f.readline())\n",
    "        mark = file_content[-1]\n",
    "print file_content"
   ]
  },
  {
   "cell_type": "code",
   "execution_count": 12,
   "metadata": {
    "collapsed": false,
    "deletable": true,
    "editable": true
   },
   "outputs": [],
   "source": [
    "with open('/Users/baidu/Desktop/writetest-1.csv','w') as f:\n",
    "    for item in file_content:\n",
    "        f.write(item + '\\n')"
   ]
  },
  {
   "cell_type": "code",
   "execution_count": null,
   "metadata": {
    "collapsed": true,
    "deletable": true,
    "editable": true
   },
   "outputs": [],
   "source": []
  },
  {
   "cell_type": "code",
   "execution_count": null,
   "metadata": {
    "collapsed": true,
    "deletable": true,
    "editable": true
   },
   "outputs": [],
   "source": []
  },
  {
   "cell_type": "code",
   "execution_count": 20,
   "metadata": {
    "collapsed": false,
    "deletable": true,
    "editable": true
   },
   "outputs": [],
   "source": [
    "from pyspark.sql import SQLContext\n",
    "sqlContext = SQLContext(sc)\n",
    "\n",
    "df = sqlContext.read.json('/Users/baidu/Downloads/people.json')\n",
    "df.show()\n",
    "df.take(3)"
   ]
  },
  {
   "cell_type": "code",
   "execution_count": 39,
   "metadata": {
    "collapsed": false
   },
   "outputs": [
    {
     "name": "stdout",
     "output_type": "stream",
     "text": [
      "root\n",
      " |-- age: long (nullable = true)\n",
      " |-- name: string (nullable = true)\n",
      "\n",
      "+-------+\n",
      "|   name|\n",
      "+-------+\n",
      "|Michael|\n",
      "|   Andy|\n",
      "| Justin|\n",
      "+-------+\n",
      "\n",
      "+---+----+\n",
      "|age|name|\n",
      "+---+----+\n",
      "| 30|Andy|\n",
      "+---+----+\n",
      "\n",
      "+----+-----+\n",
      "| age|count|\n",
      "+----+-----+\n",
      "|null|    1|\n",
      "|  19|    1|\n",
      "|  30|    1|\n",
      "+----+-----+\n",
      "\n"
     ]
    }
   ],
   "source": [
    "df.count()\n",
    "df.columns\n",
    "#['age', 'name']\n",
    "\n",
    "df.head()\n",
    "#Row(age=None, name=u'Michael')\n",
    "\n",
    "df.dtypes\n",
    "#[('age', 'bigint'), ('name', 'string')]\n",
    "\n",
    "df.printSchema()\n",
    "df.select('name').show()\n",
    "df.filter(\"name = 'Andy'\").show()\n",
    "df.filter(\"name = 'Andy'\").first()\n",
    "df.groupBy(\"age\").count().show()"
   ]
  },
  {
   "cell_type": "code",
   "execution_count": 46,
   "metadata": {
    "collapsed": false
   },
   "outputs": [],
   "source": [
    "from pyspark.sql import SQLContext, Row\n",
    "sqlContext = SQLContext(sc)\n",
    "\n",
    "lines = sc.textFile(\"/Users/baidu/Desktop/people.txt\")\n",
    "parts = lines.map(lambda l: l.split(','))\n",
    "people = parts.map(lambda p: Row(name=p[0], age=int(p[1])))\n",
    "\n",
    "schemaPeople = sqlContext.createDataFrame(people)\n",
    "schemaPeople.registerTempTable('people')\n",
    "\n",
    "teenagers = sqlContext.sql(\"SELECT name FROM people WHERE age >= 13 AND age <= 19\")"
   ]
  },
  {
   "cell_type": "code",
   "execution_count": 47,
   "metadata": {
    "collapsed": false
   },
   "outputs": [
    {
     "name": "stdout",
     "output_type": "stream",
     "text": [
      "Name: Justin\n"
     ]
    }
   ],
   "source": [
    "teenNames = teenagers.map(lambda p: \"Name: \" + p.name)\n",
    "for teenName in teenNames.collect():\n",
    "  print teenName"
   ]
  },
  {
   "cell_type": "code",
   "execution_count": 53,
   "metadata": {
    "collapsed": false
   },
   "outputs": [
    {
     "name": "stdout",
     "output_type": "stream",
     "text": [
      "Name: Michael\n",
      "Name: Andy\n",
      "Name: Justin\n"
     ]
    }
   ],
   "source": [
    "from pyspark.sql import *\n",
    "from pyspark.sql.types import StructType,StructField,StringType\n",
    "sqlContext = SQLContext(sc)\n",
    "\n",
    "lines = sc.textFile(\"/Users/baidu/Desktop/people.txt\")\n",
    "parts = lines.map(lambda l: l.split(\",\"))\n",
    "people = parts.map(lambda p: (p[0], p[1].strip()))\n",
    "\n",
    "# The schema is encoded in a string.\n",
    "schemaString = \"name age\"\n",
    "fields = [StructField(field_name, StringType(), True) for field_name in schemaString.split()]\n",
    "schema = StructType(fields)\n",
    "\n",
    "# Apply the schema to the RDD.\n",
    "schemaPeople = sqlContext.createDataFrame(people, schema)\n",
    "\n",
    "# Register the DataFrame as a table.\n",
    "schemaPeople.registerTempTable(\"people\")\n",
    "\n",
    "# SQL can be run over DataFrames that have been registered as a table.\n",
    "results = sqlContext.sql(\"SELECT name FROM people\")\n",
    "\n",
    "# The results of SQL queries are RDDs and support all the normal RDD operations.\n",
    "names = results.map(lambda p: \"Name: \" + p.name)\n",
    "for name in names.collect():\n",
    "  print name"
   ]
  },
  {
   "cell_type": "code",
   "execution_count": null,
   "metadata": {
    "collapsed": true
   },
   "outputs": [],
   "source": []
  },
  {
   "cell_type": "code",
   "execution_count": null,
   "metadata": {
    "collapsed": true
   },
   "outputs": [],
   "source": []
  },
  {
   "cell_type": "code",
   "execution_count": null,
   "metadata": {
    "collapsed": true
   },
   "outputs": [],
   "source": []
  },
  {
   "cell_type": "code",
   "execution_count": null,
   "metadata": {
    "collapsed": true
   },
   "outputs": [],
   "source": []
  },
  {
   "cell_type": "code",
   "execution_count": null,
   "metadata": {
    "collapsed": true
   },
   "outputs": [],
   "source": []
  },
  {
   "cell_type": "code",
   "execution_count": null,
   "metadata": {
    "collapsed": true
   },
   "outputs": [],
   "source": []
  },
  {
   "cell_type": "code",
   "execution_count": null,
   "metadata": {
    "collapsed": true
   },
   "outputs": [],
   "source": []
  },
  {
   "cell_type": "code",
   "execution_count": null,
   "metadata": {
    "collapsed": true
   },
   "outputs": [],
   "source": []
  },
  {
   "cell_type": "code",
   "execution_count": null,
   "metadata": {
    "collapsed": true
   },
   "outputs": [],
   "source": []
  },
  {
   "cell_type": "code",
   "execution_count": null,
   "metadata": {
    "collapsed": true
   },
   "outputs": [],
   "source": []
  },
  {
   "cell_type": "code",
   "execution_count": null,
   "metadata": {
    "collapsed": true
   },
   "outputs": [],
   "source": []
  },
  {
   "cell_type": "code",
   "execution_count": null,
   "metadata": {
    "collapsed": true
   },
   "outputs": [],
   "source": []
  },
  {
   "cell_type": "code",
   "execution_count": null,
   "metadata": {
    "collapsed": true
   },
   "outputs": [],
   "source": []
  },
  {
   "cell_type": "code",
   "execution_count": null,
   "metadata": {
    "collapsed": true
   },
   "outputs": [],
   "source": []
  },
  {
   "cell_type": "code",
   "execution_count": null,
   "metadata": {
    "collapsed": true
   },
   "outputs": [],
   "source": []
  },
  {
   "cell_type": "code",
   "execution_count": null,
   "metadata": {
    "collapsed": true
   },
   "outputs": [],
   "source": []
  },
  {
   "cell_type": "code",
   "execution_count": null,
   "metadata": {
    "collapsed": true
   },
   "outputs": [],
   "source": []
  },
  {
   "cell_type": "code",
   "execution_count": null,
   "metadata": {
    "collapsed": true
   },
   "outputs": [],
   "source": []
  },
  {
   "cell_type": "code",
   "execution_count": null,
   "metadata": {
    "collapsed": true
   },
   "outputs": [],
   "source": []
  },
  {
   "cell_type": "code",
   "execution_count": null,
   "metadata": {
    "collapsed": true
   },
   "outputs": [],
   "source": []
  },
  {
   "cell_type": "code",
   "execution_count": null,
   "metadata": {
    "collapsed": true
   },
   "outputs": [],
   "source": []
  },
  {
   "cell_type": "code",
   "execution_count": null,
   "metadata": {
    "collapsed": true
   },
   "outputs": [],
   "source": []
  },
  {
   "cell_type": "code",
   "execution_count": null,
   "metadata": {
    "collapsed": true
   },
   "outputs": [],
   "source": []
  },
  {
   "cell_type": "code",
   "execution_count": null,
   "metadata": {
    "collapsed": true
   },
   "outputs": [],
   "source": []
  },
  {
   "cell_type": "code",
   "execution_count": null,
   "metadata": {
    "collapsed": true
   },
   "outputs": [],
   "source": []
  },
  {
   "cell_type": "code",
   "execution_count": null,
   "metadata": {
    "collapsed": true
   },
   "outputs": [],
   "source": []
  },
  {
   "cell_type": "code",
   "execution_count": null,
   "metadata": {
    "collapsed": true
   },
   "outputs": [],
   "source": []
  },
  {
   "cell_type": "code",
   "execution_count": null,
   "metadata": {
    "collapsed": true
   },
   "outputs": [],
   "source": []
  },
  {
   "cell_type": "code",
   "execution_count": null,
   "metadata": {
    "collapsed": true
   },
   "outputs": [],
   "source": []
  },
  {
   "cell_type": "code",
   "execution_count": null,
   "metadata": {
    "collapsed": true
   },
   "outputs": [],
   "source": []
  },
  {
   "cell_type": "code",
   "execution_count": null,
   "metadata": {
    "collapsed": true
   },
   "outputs": [],
   "source": []
  },
  {
   "cell_type": "code",
   "execution_count": null,
   "metadata": {
    "collapsed": true
   },
   "outputs": [],
   "source": []
  },
  {
   "cell_type": "code",
   "execution_count": null,
   "metadata": {
    "collapsed": true,
    "deletable": true,
    "editable": true
   },
   "outputs": [],
   "source": []
  },
  {
   "cell_type": "code",
   "execution_count": null,
   "metadata": {
    "collapsed": true,
    "deletable": true,
    "editable": true
   },
   "outputs": [],
   "source": []
  },
  {
   "cell_type": "code",
   "execution_count": null,
   "metadata": {
    "collapsed": true,
    "deletable": true,
    "editable": true
   },
   "outputs": [],
   "source": []
  },
  {
   "cell_type": "code",
   "execution_count": null,
   "metadata": {
    "collapsed": true,
    "deletable": true,
    "editable": true
   },
   "outputs": [],
   "source": []
  },
  {
   "cell_type": "code",
   "execution_count": null,
   "metadata": {
    "collapsed": true,
    "deletable": true,
    "editable": true
   },
   "outputs": [],
   "source": []
  },
  {
   "cell_type": "code",
   "execution_count": null,
   "metadata": {
    "collapsed": true,
    "deletable": true,
    "editable": true
   },
   "outputs": [],
   "source": []
  },
  {
   "cell_type": "code",
   "execution_count": null,
   "metadata": {
    "collapsed": true,
    "deletable": true,
    "editable": true
   },
   "outputs": [],
   "source": []
  },
  {
   "cell_type": "code",
   "execution_count": 6,
   "metadata": {
    "collapsed": false,
    "deletable": true,
    "editable": true
   },
   "outputs": [
    {
     "data": {
      "text/plain": [
       "1.75"
      ]
     },
     "execution_count": 6,
     "metadata": {},
     "output_type": "execute_result"
    }
   ],
   "source": [
    "8 * 5 + 2\n",
    "from __future__ import division\n",
    "7/4"
   ]
  },
  {
   "cell_type": "code",
   "execution_count": null,
   "metadata": {
    "collapsed": true,
    "deletable": true,
    "editable": true
   },
   "outputs": [],
   "source": []
  },
  {
   "cell_type": "code",
   "execution_count": null,
   "metadata": {
    "collapsed": true,
    "deletable": true,
    "editable": true
   },
   "outputs": [],
   "source": []
  },
  {
   "cell_type": "code",
   "execution_count": null,
   "metadata": {
    "collapsed": true,
    "deletable": true,
    "editable": true
   },
   "outputs": [],
   "source": []
  },
  {
   "cell_type": "code",
   "execution_count": null,
   "metadata": {
    "collapsed": true,
    "deletable": true,
    "editable": true
   },
   "outputs": [],
   "source": []
  },
  {
   "cell_type": "code",
   "execution_count": null,
   "metadata": {
    "collapsed": true,
    "deletable": true,
    "editable": true
   },
   "outputs": [],
   "source": []
  },
  {
   "cell_type": "code",
   "execution_count": null,
   "metadata": {
    "collapsed": true,
    "deletable": true,
    "editable": true
   },
   "outputs": [],
   "source": []
  }
 ],
 "metadata": {
  "kernelspec": {
   "display_name": "Python 2",
   "language": "python",
   "name": "python2"
  },
  "language_info": {
   "codemirror_mode": {
    "name": "ipython",
    "version": 2
   },
   "file_extension": ".py",
   "mimetype": "text/x-python",
   "name": "python",
   "nbconvert_exporter": "python",
   "pygments_lexer": "ipython2",
   "version": "2.7.10"
  }
 },
 "nbformat": 4,
 "nbformat_minor": 2
}
